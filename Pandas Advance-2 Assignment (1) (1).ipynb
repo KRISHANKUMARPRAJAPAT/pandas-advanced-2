{
 "cells": [
  {
   "cell_type": "markdown",
   "id": "6d4da3e9-57cc-4458-ae45-f05334e530b7",
   "metadata": {},
   "source": [
    "import pandas as pd\n",
    "\n",
    "course_name = [‘Data Science’, ‘Machine Learning’, ‘Big Data’, ‘Data Engineer’]\n",
    "\n",
    "duration = [2,3,6,4]\n",
    "\n",
    "\n",
    "df = pd.DataFrame(data = {‘course_name’ : course_name, ‘duration’ : duration})\n",
    "## Q1. Write a code to print the data present in the second row of the dataframe, df."
   ]
  },
  {
   "cell_type": "code",
   "execution_count": 1,
   "id": "1efcf461-3cdc-4ebe-9215-31b20f8ab200",
   "metadata": {},
   "outputs": [
    {
     "data": {
      "text/html": [
       "<div>\n",
       "<style scoped>\n",
       "    .dataframe tbody tr th:only-of-type {\n",
       "        vertical-align: middle;\n",
       "    }\n",
       "\n",
       "    .dataframe tbody tr th {\n",
       "        vertical-align: top;\n",
       "    }\n",
       "\n",
       "    .dataframe thead th {\n",
       "        text-align: right;\n",
       "    }\n",
       "</style>\n",
       "<table border=\"1\" class=\"dataframe\">\n",
       "  <thead>\n",
       "    <tr style=\"text-align: right;\">\n",
       "      <th></th>\n",
       "      <th>course_name</th>\n",
       "      <th>duration</th>\n",
       "    </tr>\n",
       "  </thead>\n",
       "  <tbody>\n",
       "    <tr>\n",
       "      <th>1</th>\n",
       "      <td>Machine Learning</td>\n",
       "      <td>3</td>\n",
       "    </tr>\n",
       "  </tbody>\n",
       "</table>\n",
       "</div>"
      ],
      "text/plain": [
       "        course_name duration\n",
       "1  Machine Learning        3"
      ]
     },
     "execution_count": 1,
     "metadata": {},
     "output_type": "execute_result"
    }
   ],
   "source": [
    "#Ans: 1\n",
    "\n",
    "import pandas as pd\n",
    "\n",
    "\n",
    "course_name = ['Data Science', 'Machine Learning', 'Big Data', 'Data Engineer']\n",
    "duration = [2,3,6,4]\n",
    "df = pd.DataFrame(data = {'course_name' : course_name , 'duration' : duration})\n",
    "\n",
    "second_row = df.iloc[1]\n",
    "pd.DataFrame(second_row).T"
   ]
  },
  {
   "cell_type": "raw",
   "id": "c77fde96-c2d4-4434-a888-6b6d3c24f244",
   "metadata": {},
   "source": []
  },
  {
   "cell_type": "markdown",
   "id": "d5d356d8-8fe0-45df-8e36-62e8c08c0bfa",
   "metadata": {},
   "source": [
    "## Q2. What is the difference between the functions loc and iloc in pandas.DataFrame?"
   ]
  },
  {
   "cell_type": "markdown",
   "id": "2c0023db-5d60-4872-b18a-f92f5f37caf1",
   "metadata": {},
   "source": [
    "#Ans: 2 \n",
    "\n",
    "In Pandas DataFrame, both loc and iloc are used to access rows and columns of the DataFrame. The main difference between these two functions is the way they handle the indices of the DataFrame.\n",
    "\n",
    "**loc function:** It is used for label-based indexing. It uses the labels of rows or columns to access data. This function accepts the label of the rows and columns to return the data.\n",
    "\n",
    "**iloc function:** It is used for integer-based indexing. It uses integer indices of rows or columns to access data. This function accepts integer indices of rows and columns to return the data.\n",
    "\n",
    "\n",
    "Here is an examples to demonstrate the difference between the two functions:-"
   ]
  },
  {
   "cell_type": "code",
   "execution_count": 2,
   "id": "72c4d1be-7d6b-47c6-a5ea-813e06496582",
   "metadata": {},
   "outputs": [
    {
     "data": {
      "text/html": [
       "<div>\n",
       "<style scoped>\n",
       "    .dataframe tbody tr th:only-of-type {\n",
       "        vertical-align: middle;\n",
       "    }\n",
       "\n",
       "    .dataframe tbody tr th {\n",
       "        vertical-align: top;\n",
       "    }\n",
       "\n",
       "    .dataframe thead th {\n",
       "        text-align: right;\n",
       "    }\n",
       "</style>\n",
       "<table border=\"1\" class=\"dataframe\">\n",
       "  <thead>\n",
       "    <tr style=\"text-align: right;\">\n",
       "      <th></th>\n",
       "      <th>B</th>\n",
       "      <th>C</th>\n",
       "    </tr>\n",
       "  </thead>\n",
       "  <tbody>\n",
       "    <tr>\n",
       "      <th>1</th>\n",
       "      <td>200</td>\n",
       "      <td>2000</td>\n",
       "    </tr>\n",
       "    <tr>\n",
       "      <th>2</th>\n",
       "      <td>300</td>\n",
       "      <td>3000</td>\n",
       "    </tr>\n",
       "  </tbody>\n",
       "</table>\n",
       "</div>"
      ],
      "text/plain": [
       "     B     C\n",
       "1  200  2000\n",
       "2  300  3000"
      ]
     },
     "execution_count": 2,
     "metadata": {},
     "output_type": "execute_result"
    }
   ],
   "source": [
    "df = pd.DataFrame({ 'A': [10, 20, 30, 40], 'B': [100, 200, 300, 400], 'C': [1000, 2000, 3000, 4000] })\n",
    "\n",
    "loc = df.loc[1:2 , 'B' : 'C']\n",
    "pd.DataFrame(loc)"
   ]
  },
  {
   "cell_type": "code",
   "execution_count": 3,
   "id": "68f1a9e7-9210-4707-b1a3-5150d01dfc5d",
   "metadata": {},
   "outputs": [
    {
     "data": {
      "text/html": [
       "<div>\n",
       "<style scoped>\n",
       "    .dataframe tbody tr th:only-of-type {\n",
       "        vertical-align: middle;\n",
       "    }\n",
       "\n",
       "    .dataframe tbody tr th {\n",
       "        vertical-align: top;\n",
       "    }\n",
       "\n",
       "    .dataframe thead th {\n",
       "        text-align: right;\n",
       "    }\n",
       "</style>\n",
       "<table border=\"1\" class=\"dataframe\">\n",
       "  <thead>\n",
       "    <tr style=\"text-align: right;\">\n",
       "      <th></th>\n",
       "      <th>B</th>\n",
       "      <th>C</th>\n",
       "    </tr>\n",
       "  </thead>\n",
       "  <tbody>\n",
       "    <tr>\n",
       "      <th>1</th>\n",
       "      <td>200</td>\n",
       "      <td>2000</td>\n",
       "    </tr>\n",
       "    <tr>\n",
       "      <th>2</th>\n",
       "      <td>300</td>\n",
       "      <td>3000</td>\n",
       "    </tr>\n",
       "  </tbody>\n",
       "</table>\n",
       "</div>"
      ],
      "text/plain": [
       "     B     C\n",
       "1  200  2000\n",
       "2  300  3000"
      ]
     },
     "execution_count": 3,
     "metadata": {},
     "output_type": "execute_result"
    }
   ],
   "source": [
    "iloc = df.iloc[1:3 , 1:]\n",
    "pd.DataFrame(iloc)"
   ]
  },
  {
   "cell_type": "raw",
   "id": "270fde85-8639-44b0-bce6-129428c71c76",
   "metadata": {},
   "source": [
    "loc function is used to access the data using labels of rows and columns. On the other hand, iloc function is used to access the data using integer indices of rows and columns."
   ]
  },
  {
   "cell_type": "markdown",
   "id": "62163b0c-ca7f-4b90-9fa5-7ce341fa7fd3",
   "metadata": {},
   "source": [
    "## Q3. Reindex the given dataframe using a variable, reindex = [3,0,1,2] and store it in the variable, new_df then find the output for both new_df.loc[2] and new_df.iloc[2].Did you observe any difference in both the outputs? If so then explain it."
   ]
  },
  {
   "cell_type": "code",
   "execution_count": 4,
   "id": "c9a8f941-b42f-4b10-9ef4-05441b66e79d",
   "metadata": {},
   "outputs": [
    {
     "data": {
      "text/html": [
       "<div>\n",
       "<style scoped>\n",
       "    .dataframe tbody tr th:only-of-type {\n",
       "        vertical-align: middle;\n",
       "    }\n",
       "\n",
       "    .dataframe tbody tr th {\n",
       "        vertical-align: top;\n",
       "    }\n",
       "\n",
       "    .dataframe thead th {\n",
       "        text-align: right;\n",
       "    }\n",
       "</style>\n",
       "<table border=\"1\" class=\"dataframe\">\n",
       "  <thead>\n",
       "    <tr style=\"text-align: right;\">\n",
       "      <th></th>\n",
       "      <th>2</th>\n",
       "    </tr>\n",
       "  </thead>\n",
       "  <tbody>\n",
       "    <tr>\n",
       "      <th>A</th>\n",
       "      <td>30</td>\n",
       "    </tr>\n",
       "    <tr>\n",
       "      <th>B</th>\n",
       "      <td>300</td>\n",
       "    </tr>\n",
       "    <tr>\n",
       "      <th>C</th>\n",
       "      <td>3000</td>\n",
       "    </tr>\n",
       "  </tbody>\n",
       "</table>\n",
       "</div>"
      ],
      "text/plain": [
       "      2\n",
       "A    30\n",
       "B   300\n",
       "C  3000"
      ]
     },
     "execution_count": 4,
     "metadata": {},
     "output_type": "execute_result"
    }
   ],
   "source": [
    "df = pd.DataFrame({'A': [10, 20, 30, 40], 'B': [100, 200, 300, 400], 'C': [1000, 2000, 3000, 4000]})\n",
    "\n",
    "new_index = [3,0,1,2]\n",
    "new_df = df.reindex(index = new_index)\n",
    "\n",
    "loc = new_df.loc[2]\n",
    "pd.DataFrame(loc)"
   ]
  },
  {
   "cell_type": "code",
   "execution_count": 5,
   "id": "8734116a-561a-49e3-8a8a-1720edf9e974",
   "metadata": {},
   "outputs": [
    {
     "data": {
      "text/html": [
       "<div>\n",
       "<style scoped>\n",
       "    .dataframe tbody tr th:only-of-type {\n",
       "        vertical-align: middle;\n",
       "    }\n",
       "\n",
       "    .dataframe tbody tr th {\n",
       "        vertical-align: top;\n",
       "    }\n",
       "\n",
       "    .dataframe thead th {\n",
       "        text-align: right;\n",
       "    }\n",
       "</style>\n",
       "<table border=\"1\" class=\"dataframe\">\n",
       "  <thead>\n",
       "    <tr style=\"text-align: right;\">\n",
       "      <th></th>\n",
       "      <th>1</th>\n",
       "    </tr>\n",
       "  </thead>\n",
       "  <tbody>\n",
       "    <tr>\n",
       "      <th>A</th>\n",
       "      <td>20</td>\n",
       "    </tr>\n",
       "    <tr>\n",
       "      <th>B</th>\n",
       "      <td>200</td>\n",
       "    </tr>\n",
       "    <tr>\n",
       "      <th>C</th>\n",
       "      <td>2000</td>\n",
       "    </tr>\n",
       "  </tbody>\n",
       "</table>\n",
       "</div>"
      ],
      "text/plain": [
       "      1\n",
       "A    20\n",
       "B   200\n",
       "C  2000"
      ]
     },
     "execution_count": 5,
     "metadata": {},
     "output_type": "execute_result"
    }
   ],
   "source": [
    "iloc = new_df.iloc[2]\n",
    "pd.DataFrame(iloc)"
   ]
  },
  {
   "cell_type": "raw",
   "id": "b0403e08-471d-4134-9e65-5be7052f5716",
   "metadata": {},
   "source": []
  },
  {
   "cell_type": "raw",
   "id": "49d26fae-ef99-4a94-9ffa-e1a974fe18bf",
   "metadata": {},
   "source": [
    "Consider the below code to answer further questions:\n",
    "import pandas as pd\n",
    "import numpy as np\n",
    "columns = ['column_1', 'column_2', 'column_3', 'column_4', 'column_5', 'column_6']\n",
    "indices = [1,2,3,4,5,6]\n",
    "#Creating a dataframe:\n",
    "df1 = pd.DataFrame(np.random.rand(6,6), columns = columns, index = indices)"
   ]
  },
  {
   "cell_type": "markdown",
   "id": "65e2f74e-dc05-4bbf-a1a8-200d6f436105",
   "metadata": {},
   "source": [
    "## Q4. Write a code to find the following statistical measurements for the above dataframe df1: \n",
    "**(i) mean of each and every column present in the dataframe.**\n",
    "\n",
    "**(ii) standard deviation of column, ‘column_2’**"
   ]
  },
  {
   "cell_type": "code",
   "execution_count": 6,
   "id": "8bee96c2-a03d-4030-8a15-10d0c1752951",
   "metadata": {},
   "outputs": [
    {
     "name": "stdout",
     "output_type": "stream",
     "text": [
      "\n",
      "Mean of each column in df1:\n",
      "column_1    0.523098\n",
      "column_2    0.448205\n",
      "column_3    0.620229\n",
      "column_4    0.588847\n",
      "column_5    0.698568\n",
      "column_6    0.652806\n",
      "dtype: float64\n"
     ]
    }
   ],
   "source": [
    "#Ans: 4 \n",
    "import numpy as np\n",
    "columns = ['column_1', 'column_2', 'column_3', 'column_4', 'column_5', 'column_6']\n",
    "indices = [1,2,3,4,5,6]\n",
    "#Creating a dataframe:\n",
    "df1 = pd.DataFrame(np.random.rand(6,6), columns = columns, index = indices)\n",
    "\n",
    "\n",
    "#(i) mean of each and every column present in the dataframe.\n",
    "print(\"\\nMean of each column in df1:\")\n",
    "print(df1.mean())"
   ]
  },
  {
   "cell_type": "code",
   "execution_count": 7,
   "id": "d1c53efc-3506-49f0-a605-c0d558b16a96",
   "metadata": {},
   "outputs": [
    {
     "name": "stdout",
     "output_type": "stream",
     "text": [
      "\n",
      "Standard deviation of column 'column_2' in df1:\n",
      "0.38204415241330975\n"
     ]
    }
   ],
   "source": [
    "#(ii) Standard deviation of column 'column_2' in df1\n",
    "print(\"\\nStandard deviation of column 'column_2' in df1:\")\n",
    "print(df1['column_2'].std())"
   ]
  },
  {
   "cell_type": "raw",
   "id": "a49cac08-5750-441e-b56d-6a055d33f511",
   "metadata": {},
   "source": []
  },
  {
   "cell_type": "markdown",
   "id": "9b2a58ed-37ee-4ff1-89f0-463a03e19ab2",
   "metadata": {},
   "source": [
    "## Q5. Replace the data present in the second row of column, ‘column_2’ by a string variable then find the mean of column, column_2. If you are getting errors in executing it then explain why.\n",
    "[Hint: To replace the data use df1.loc[] and equate this to string data of your choice.]"
   ]
  },
  {
   "cell_type": "code",
   "execution_count": null,
   "id": "9268cdbd-3076-4a08-87e4-ff2a549c22a4",
   "metadata": {},
   "outputs": [],
   "source": []
  },
  {
   "cell_type": "markdown",
   "id": "2b525bc7-081b-4ac9-bcdf-78c80c0379e8",
   "metadata": {},
   "source": [
    "## Q6. What do you understand about the windows function in pandas and list the types of windows functions?"
   ]
  },
  {
   "cell_type": "markdown",
   "id": "985088a4-e99b-4c02-94f9-885f032d9d49",
   "metadata": {},
   "source": [
    "#Ans: 6\n",
    "\n",
    "In Pandas, a window function, also known as a rolling or moving function, is a function that performs a calculation over a sliding window of data in a Series or DataFrame. The window function calculates a summary statistic over a fixed number of preceding or succeeding data points, depending on the window size.\n",
    "\n",
    "*There are several types of window functions in Pandas:*\n",
    "\n",
    "**Rolling:** A rolling window function computes a summary statistic over a fixed-size sliding window. The window size can be specified as a number of rows or a time period. Some commonly used rolling window functions include rolling.mean(), rolling.sum(), and rolling.max().\n",
    "\n",
    "**Expanding:** An expanding window function computes a summary statistic over all data points up to the current point. The size of the window increases with each new data point. Some commonly used expanding window functions include expanding.mean(), expanding.sum(), and expanding.max().\n",
    "\n",
    "**Exponentially Weighted:** An exponentially weighted window function computes a summary statistic over a sliding window, where the more recent data points are given more weight than the older ones. The weight is determined by a decay factor, which can be specified by the user. Some commonly used exponentially weighted window functions include ewm.mean(), ewm.var(), and ewm.cov().\n",
    "\n",
    "**Rolling with Time Window:** In this type of window function, the window size is specified in terms of time periods instead of a fixed number of rows. Some commonly used rolling window functions with time window include rolling().mean(), rolling().sum(), and rolling().std()"
   ]
  },
  {
   "cell_type": "markdown",
   "id": "5432d3b6-add0-4467-8339-d066431e1e88",
   "metadata": {},
   "source": [
    "## Q7. Write a code to print only the current month and year at the time of answering this question.\n",
    "[Hint: Use pandas.datetime function]"
   ]
  },
  {
   "cell_type": "code",
   "execution_count": 8,
   "id": "f367f35d-8ecc-4984-876b-4e775146cf57",
   "metadata": {},
   "outputs": [
    {
     "name": "stdout",
     "output_type": "stream",
     "text": [
      "Current month and year: July 2023\n"
     ]
    },
    {
     "name": "stderr",
     "output_type": "stream",
     "text": [
      "/tmp/ipykernel_1650/2647680559.py:3: FutureWarning: The pandas.datetime class is deprecated and will be removed from pandas in a future version. Import from datetime module instead.\n",
      "  current_date = pd.datetime.now()\n"
     ]
    }
   ],
   "source": [
    "#Ans: 7\n",
    "\n",
    "current_date = pd.datetime.now()\n",
    "print(\"Current month and year:\", current_date.strftime(\"%B %Y\"))"
   ]
  },
  {
   "cell_type": "raw",
   "id": "a29d0237-d211-45ff-9b5c-44d7cc174618",
   "metadata": {},
   "source": []
  },
  {
   "cell_type": "markdown",
   "id": "165f4474-66b7-42a6-9a2b-7a1ab58a4c6b",
   "metadata": {},
   "source": [
    "## Q8. Write a Python program that takes in two dates as input (in the format YYYY-MM-DD) and calculates the difference between them in days, hours, and minutes using Pandas time delta. The program should prompt the user to enter the dates and display the result."
   ]
  },
  {
   "cell_type": "code",
   "execution_count": 9,
   "id": "98fe8bb0-3464-48c7-8e66-c5b53651377b",
   "metadata": {},
   "outputs": [
    {
     "name": "stdin",
     "output_type": "stream",
     "text": [
      "Enter the first date (YYYY-MM-DD):  2023-07-07\n",
      "Enter the second date (YYYY-MM-DD):  2023-08-12\n"
     ]
    },
    {
     "name": "stdout",
     "output_type": "stream",
     "text": [
      "The difference between the two dates is:\n",
      "36 days, 0 hours, and 0 minutes.\n"
     ]
    }
   ],
   "source": [
    "#Ans: 8 \n",
    "\n",
    "date1 = input(\"Enter the first date (YYYY-MM-DD): \")\n",
    "date2 = input(\"Enter the second date (YYYY-MM-DD): \")\n",
    "\n",
    "#Convert the input strings to datetime objects\n",
    "date1 = pd.to_datetime(date1)\n",
    "date2 = pd.to_datetime(date2)\n",
    "\n",
    "#Calculate the difference between the two dates using timedelta\n",
    "time_diff = date2 - date1\n",
    "\n",
    "#Calculate the difference in days, hours, and minutes\n",
    "days = time_diff.days\n",
    "hours = time_diff.seconds // 3600\n",
    "minutes = (time_diff.seconds // 60) % 60\n",
    "\n",
    "#Display the result\n",
    "print(\"The difference between the two dates is:\")\n",
    "print(f\"{days} days, {hours} hours, and {minutes} minutes.\")"
   ]
  },
  {
   "cell_type": "raw",
   "id": "4a3fa715-6642-4a2d-adfc-9665a9223435",
   "metadata": {},
   "source": []
  },
  {
   "cell_type": "code",
   "execution_count": null,
   "id": "4cc57312-00a0-4e09-9d17-19343aa22f52",
   "metadata": {},
   "outputs": [],
   "source": []
  }
 ],
 "metadata": {
  "kernelspec": {
   "display_name": "Python 3 (ipykernel)",
   "language": "python",
   "name": "python3"
  },
  "language_info": {
   "codemirror_mode": {
    "name": "ipython",
    "version": 3
   },
   "file_extension": ".py",
   "mimetype": "text/x-python",
   "name": "python",
   "nbconvert_exporter": "python",
   "pygments_lexer": "ipython3",
   "version": "3.10.8"
  }
 },
 "nbformat": 4,
 "nbformat_minor": 5
}
